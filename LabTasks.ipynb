{
  "nbformat": 4,
  "nbformat_minor": 0,
  "metadata": {
    "colab": {
      "provenance": [],
      "authorship_tag": "ABX9TyMUcNRLl8HCi5r1SXHINsoH",
      "include_colab_link": true
    },
    "kernelspec": {
      "name": "python3",
      "display_name": "Python 3"
    },
    "language_info": {
      "name": "python"
    }
  },
  "cells": [
    {
      "cell_type": "markdown",
      "metadata": {
        "id": "view-in-github",
        "colab_type": "text"
      },
      "source": [
        "<a href=\"https://colab.research.google.com/github/AnushaAmin/Artificial-Intelligence/blob/main/LabTasks.ipynb\" target=\"_parent\"><img src=\"https://colab.research.google.com/assets/colab-badge.svg\" alt=\"Open In Colab\"/></a>"
      ]
    },
    {
      "cell_type": "code",
      "execution_count": 1,
      "metadata": {
        "colab": {
          "base_uri": "https://localhost:8080/"
        },
        "id": "7e3ilVaysufE",
        "outputId": "1fdef8b6-8167-492b-ef33-7bc83c9b0cc6"
      },
      "outputs": [
        {
          "output_type": "stream",
          "name": "stdout",
          "text": [
            "Enter a number10\n",
            "Given number is an even number\n"
          ]
        }
      ],
      "source": [
        "# Lab Activity 1\n",
        "n=input(\"Enter a number\")\n",
        "if int(n)%2==0:\n",
        "     print(\"Given number is an even number\")\n",
        "else:\n",
        "     print(\"Given number is an odd number\")\n",
        "     "
      ]
    },
    {
      "cell_type": "code",
      "source": [
        "\n",
        "# Lab Activity 2\n",
        "sum=0\n",
        "s=input(\"Enter an integer value\")\n",
        "n=int(s)\n",
        "while n!=0:\n",
        "    sum=sum+n\n",
        "    s=input(\"Enter an integer value\")\n",
        "    n=int(s)\n",
        "print(\"Sum of given values is \" , sum)"
      ],
      "metadata": {
        "colab": {
          "base_uri": "https://localhost:8080/"
        },
        "id": "xgXkgFVXs4DR",
        "outputId": "f977542d-b428-429e-f035-72a6603dba29"
      },
      "execution_count": 2,
      "outputs": [
        {
          "output_type": "stream",
          "name": "stdout",
          "text": [
            "Enter an integer value2\n",
            "Enter an integer value4\n",
            "Enter an integer value7\n",
            "Enter an integer value2\n",
            "Enter an integer value0\n",
            "Sum of given values is  15\n"
          ]
        }
      ]
    },
    {
      "cell_type": "code",
      "source": [
        "\n",
        "# Lab Activity 3\n",
        "isPrime=True\n",
        "i=2\n",
        "n=int(input(\"Enter a number\"))\n",
        "while i"
      ],
      "metadata": {
        "id": "3kKU9ishs-jr"
      },
      "execution_count": null,
      "outputs": []
    },
    {
      "cell_type": "code",
      "source": [
        "# Lab Activity 4\n",
        "sum=0\n",
        "i=0\n",
        "while i<=4:\n",
        "  s=int(input(\"Enter a number\"))\n",
        "  n=int(s)\n",
        "  sum=sum+n\n",
        "  i=i+1\n",
        "print(\"sum is \" , sum)"
      ],
      "metadata": {
        "id": "mPMyQr17tA7L"
      },
      "execution_count": null,
      "outputs": []
    },
    {
      "cell_type": "code",
      "source": [
        "\n",
        "# Lab Activity 5\n",
        "sum=0\n",
        "i=1\n",
        "while i<=10:\n",
        "  sum=sum+i\n",
        "  i=i+1\n",
        "print(\"sum is\", sum)"
      ],
      "metadata": {
        "id": "gVezh5Y0tFUB"
      },
      "execution_count": null,
      "outputs": []
    },
    {
      "cell_type": "code",
      "source": [
        "# Lab Activity 6\n",
        "name = input(\"Enter Your Name:: \")\n",
        "Registration_num = input(\"Enter Your Registration Number:: \")\n",
        "print(\"Your name is:: \" + name + \"\\n\" + \"Your Registration number is:: \" + Registration_num)"
      ],
      "metadata": {
        "id": "Qu8TXoYutIpE"
      },
      "execution_count": null,
      "outputs": []
    },
    {
      "cell_type": "code",
      "source": [
        "# Lab Activity 7\n",
        "import random\n",
        "import sys\n",
        "number = random.randint(1, 9)\n",
        "App_run = True\n",
        "Tries = 0\n",
        "while App_run:\n",
        "    Guessed = int(input(\"Guess the number:: \"))\n",
        "    if Guessed < number:\n",
        "        print(\"The number is too Low!! \")\n",
        "    elif Guessed > number:\n",
        "        print(\"The number is too High!! \")\n",
        "    elif Guessed == number:\n",
        "        print(\"You Got it!! Welldone \")\n",
        "    elif str(Guessed).lower() == \"exit\":\n",
        "        print(\"Thank You For Playing! \")\n",
        "        sys.exit()\n",
        "        if Tries < 2:\n",
        "            print(\"You Have \" + str(Tries) + \" Tries Left\")\n",
        "        elif Tries > 2 and Tries < 10:\n",
        "            print(\"Good\" + str(Tries) + \" Tries Left\")\n",
        "        else:\n",
        "            print(\"No Tries Left!! \" + str(Tries))\n",
        "    App_run = False\n",
        "Tries += 1\n",
        "print(\"The correct number is: \" + str(number))\n",
        "     "
      ],
      "metadata": {
        "colab": {
          "base_uri": "https://localhost:8080/"
        },
        "id": "DFV0iXqftMT0",
        "outputId": "3f7ba297-6805-4198-c69a-ff3ca03dbff6"
      },
      "execution_count": 3,
      "outputs": [
        {
          "output_type": "stream",
          "name": "stdout",
          "text": [
            "Guess the number:: 2\n",
            "The number is too Low!! \n",
            "The correct number is: 4\n"
          ]
        }
      ]
    }
  ]
}