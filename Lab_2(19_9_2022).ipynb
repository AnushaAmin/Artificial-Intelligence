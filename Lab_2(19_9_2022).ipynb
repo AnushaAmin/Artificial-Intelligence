{
  "nbformat": 4,
  "nbformat_minor": 0,
  "metadata": {
    "colab": {
      "provenance": [],
      "authorship_tag": "ABX9TyM0sbuu06TaBu0a3R0bt6mb",
      "include_colab_link": true
    },
    "kernelspec": {
      "name": "python3",
      "display_name": "Python 3"
    },
    "language_info": {
      "name": "python"
    }
  },
  "cells": [
    {
      "cell_type": "markdown",
      "metadata": {
        "id": "view-in-github",
        "colab_type": "text"
      },
      "source": [
        "<a href=\"https://colab.research.google.com/github/AnushaAmin/Artificial-Intelligence/blob/main/Lab_2(19_9_2022).ipynb\" target=\"_parent\"><img src=\"https://colab.research.google.com/assets/colab-badge.svg\" alt=\"Open In Colab\"/></a>"
      ]
    },
    {
      "cell_type": "code",
      "execution_count": null,
      "metadata": {
        "colab": {
          "base_uri": "https://localhost:8080/"
        },
        "id": "PKsJmxLQ3Hrz",
        "outputId": "b29bb97b-e31d-493e-c0bb-1025d4196ac2"
      },
      "outputs": [
        {
          "output_type": "stream",
          "name": "stdout",
          "text": [
            "Enter the values in First List\n",
            "Enter a value  1\n",
            "Enter a value  2\n",
            "Enter a value  3\n",
            "Enter a value  4\n",
            "Enter a value  5\n",
            "------------------------------------\n",
            "Enter the values in Second List\n",
            "Enter a value  6\n",
            "Enter a value  7\n",
            "Enter a value  8\n",
            "Enter a value  9\n",
            "Enter a value  10\n",
            "------------------------------------\n",
            "[1, 2, 3, 4, 5, 6, 7, 8, 9, 10]\n"
          ]
        }
      ],
      "source": [
        "#Activity 1:\n",
        "#Accept two lists from user and display their join.\n",
        "List1=[]\n",
        "print(\"Enter the values in First List\")\n",
        "for i in range (5):\n",
        "  values = input(\"Enter a value  \")\n",
        "  a = int(values)\n",
        "  List1.append(a)\n",
        "print(\"------------------------------------\")\n",
        "List2=[]\n",
        "print(\"Enter the values in Second List\")\n",
        "for i in range (5):\n",
        "  values = input(\"Enter a value  \")\n",
        "  a = int(values)\n",
        "  List2.append(a)\n",
        "print(\"------------------------------------\")\n",
        "List3= List1 + List2\n",
        "print(List3)"
      ]
    },
    {
      "cell_type": "code",
      "source": [
        "#Activity 2: \n",
        "#A palindrome is a string which is same read forward or backwards. \n",
        "#For example: \"dad\" is the same in forward or reverse direction. Another example is \"aibohphobia\" which literally means, an irritable fear of palindromes. \n",
        "#Write a function in python that receives a string and returns True if that string is a palindrome and False otherwise. Remember that difference between upper and lower case characters are ignored during this determination. \n",
        "def isWordSame(word):\n",
        "   new_word = word[::-1]\n",
        "   if(new_word.lower()== word.lower()):\n",
        "     return True\n",
        "   else:\n",
        "     return False\n",
        "word=input(\"Enter a word: \")\n",
        "isWordSame(word)"
      ],
      "metadata": {
        "colab": {
          "base_uri": "https://localhost:8080/"
        },
        "id": "Vwvfoex37_nS",
        "outputId": "f0b78eb7-a7db-4dd6-dc8c-3e2a26d50bb2"
      },
      "execution_count": null,
      "outputs": [
        {
          "name": "stdout",
          "output_type": "stream",
          "text": [
            "Enter a word: need\n"
          ]
        },
        {
          "output_type": "execute_result",
          "data": {
            "text/plain": [
              "False"
            ]
          },
          "metadata": {},
          "execution_count": 21
        }
      ]
    },
    {
      "cell_type": "code",
      "source": [
        "#Activity 3: \n",
        "#Imagine two matrices given in the form of 2D lists as under; a = [[1, 0, 0], [0, 1, 0], [0, 0, 1] ] b = [[1, 2, 3], [4, 5, 6], [7, 8, 9] ] \n",
        "#Write a python code that finds another matrix/2D list that is a product of and b, i.e., C=a*b Solution: \n",
        "\n",
        "a = [[1, 0, 0], [0, 1, 0], [0, 0, 1] ]\n",
        "b = [[1, 2, 3], [4, 5, 6], [7, 8, 9] ] \n",
        "c=[]\n",
        "d = [[1, 1, 1], [1, 0, 6], [1, 0, 9] ] \n",
        "final=[]\n",
        "for row in range(3):\n",
        "   c.append([])\n",
        "   for col in range (3):\n",
        "     c[row].append(0)\n",
        "     for aux in range (3):\n",
        "       c[row][col] += a[row][aux] * b[aux][col]\n",
        "print (c)\n",
        "\n",
        "for row in range(3):\n",
        "   final.append([])\n",
        "   for col in range (3):\n",
        "     final[row].append(0)\n",
        "     for aux in range (3):\n",
        "       final[row][col] += c[row][aux] * d[aux][col]\n",
        "print(\"Priniting the final matrix\")\n",
        "print (final)\n",
        "  \n"
      ],
      "metadata": {
        "colab": {
          "base_uri": "https://localhost:8080/"
        },
        "id": "5Lp8PAtEA-lx",
        "outputId": "1893f4d8-599e-4a7f-fda9-618225a83f14"
      },
      "execution_count": null,
      "outputs": [
        {
          "output_type": "stream",
          "name": "stdout",
          "text": [
            "[[1, 2, 3], [4, 5, 6], [7, 8, 9]]\n",
            "Priniting the final matrix\n",
            "[[6, 1, 40], [15, 4, 88], [24, 7, 136]]\n"
          ]
        }
      ]
    },
    {
      "cell_type": "code",
      "source": [
        "#Activity 3: \n",
        "#Imagine two matrices given in the form of 2D lists as under; a = [[1, 0, 0], [0, 1, 0], [0, 0, 1] ] b = [[1, 2, 3], [4, 5, 6], [7, 8, 9] ] \n",
        "#Write a python code that finds another matrix/2D list that is a product of and b, i.e., C=a*b Solution: \n",
        "\n",
        "a = [[1, 0, 0], [0, 1, 0], [0, 0, 1] ]\n",
        "b = [[1, 2, 3], [4, 5, 6], [7, 8, 9] ] \n",
        "c=[]\n",
        "d = [[1, 1, 1], [1, 0, 6], [1, 0, 9] ] \n",
        "final=[]\n",
        "\n",
        "def multiply (a,b,c):\n",
        "  for row in range(3):\n",
        "    c.append([])\n",
        "    for col in range(3):\n",
        "      c[row].append(0)\n",
        "      for aux in range(3):\n",
        "        c[row][col] += a[row][aux] * b[aux][col]\n",
        "\n",
        "multiply(a,b,c)\n",
        "print(\"Printing c: \" ,c)\n",
        "multiply(c,d,final)\n",
        "print(\"Printing the final matrix: \", final)\n"
      ],
      "metadata": {
        "colab": {
          "base_uri": "https://localhost:8080/"
        },
        "id": "IItXGll1OL4s",
        "outputId": "7d6c6b9f-7acf-4004-b532-d694f23f4a18"
      },
      "execution_count": null,
      "outputs": [
        {
          "output_type": "stream",
          "name": "stdout",
          "text": [
            "Printing c:  [[1, 2, 3], [4, 5, 6], [7, 8, 9]]\n",
            "Printing the final matrix:  [[6, 1, 40], [15, 4, 88], [24, 7, 136]]\n"
          ]
        }
      ]
    },
    {
      "cell_type": "code",
      "source": [
        "#Activity 4:\n",
        "#Write a python function that takes a list of N tuples as input and returns the perimeter of the polygon. Remember that your code should work for any value of N. \n",
        "def perimeter(listing):\n",
        "  leng=len(listing)\n",
        "  perimeter=0;\n",
        "  for i in range(0,leng-1):\n",
        "    dist = (((listing[i][0]-listing[i+1][0])**2) + ((listing[i][1]-listing[i+1][1])**2))**0.5\n",
        "    perimeter = perimeter + dist\n",
        "    perimeter = perimeter+(((listing[0][0]-listing[leng-1][0])**2) + ((listing [0][1] - listing [leng-1][1])**2)) ** 0.5\n",
        "    return perimeter\n",
        "L = [(1,3), (2,7), (3,9), (-1,8)]\n",
        "print(perimeter(L))\n"
      ],
      "metadata": {
        "colab": {
          "base_uri": "https://localhost:8080/"
        },
        "id": "6KO0v-jbTbxv",
        "outputId": "5406462d-f2e7-479e-ffa1-2dd49a0d0dba"
      },
      "execution_count": null,
      "outputs": [
        {
          "output_type": "stream",
          "name": "stdout",
          "text": [
            "9.508270432752164\n"
          ]
        }
      ]
    },
    {
      "cell_type": "code",
      "source": [
        "#Activity 5:\n",
        "#Imagine two sets A and B containing numbers. Without using built-in set functionalities, write your own function that receives two such sets and returns another set C which is a symmetric difference of the two input sets. (A symmetric difference between A and B will return a set C which contains only those items that appear in one of A or B. Any items that appear in both sets are not included in C). Now compare the output of your function with the following built-in functions/operators. \n",
        "#✓\tA.symmetric_difference(B) \n",
        "#✓\tB.symmetric_difference(A) \n",
        "#✓\tA ^ B ✓ \tB ^ A \n",
        "def symmetricDiff(a,b):\n",
        "  e = set()\n",
        "  for i in a:\n",
        "    if i not in b:\n",
        "      e.add(i)\n",
        "  for i in b:\n",
        "    if i not in a:\n",
        "      e.add(i)\n",
        "  return e\n",
        "\n",
        "set1 = {0,1,2,4,5}\n",
        "set2 = {4,5,7,8,9}\n",
        "print(symmetricDiff(set1,set2))\n",
        "\n",
        "print(set1.symmetric_difference(set2))\n",
        "print(set2.symmetric_difference(set1))\n",
        "print(set1^set2)\n",
        "print(set2^set1)\n"
      ],
      "metadata": {
        "id": "bTZ64CLBYHhE",
        "colab": {
          "base_uri": "https://localhost:8080/"
        },
        "outputId": "4e52869f-5025-492a-f9d1-19a183949702"
      },
      "execution_count": 1,
      "outputs": [
        {
          "output_type": "stream",
          "name": "stdout",
          "text": [
            "{0, 1, 2, 7, 8, 9}\n",
            "{0, 1, 2, 7, 8, 9}\n",
            "{0, 1, 2, 7, 8, 9}\n",
            "{0, 1, 2, 7, 8, 9}\n",
            "{0, 1, 2, 7, 8, 9}\n"
          ]
        }
      ]
    },
    {
      "cell_type": "code",
      "source": [
        "#Activity 6:\n",
        "#Create a Python program that contains a dictionary of names and phone numbers. Use a tuple of separate first and last name values for the key field. Initialize the dictionary with at least three \n",
        "#names and numbers. Ask the user to search for a phone number by entering a first and last name. \n",
        "#Display the matching number if found, or a message if not found.\n",
        "sample= {(\"shoaib\", \"ali\") : \"0246585468445\", (\"aib\", \"li\") : \"02465854645\", (\"sib\", \"ai\") : \"02465854645\",}\n",
        "firstName = input(\"enter first name: \")\n",
        "lastName = input(\"enter last name: \")\n",
        "\n",
        "searchTuple = (firstName, lastName)\n",
        "if searchTuple in sample:\n",
        "  print(sample[searchTuple])\n",
        "else: \n",
        "  print(\"name not found\")"
      ],
      "metadata": {
        "colab": {
          "base_uri": "https://localhost:8080/"
        },
        "id": "ypf8Ns4oMgUU",
        "outputId": "5a976e93-18e7-457c-f0f3-266d89fb0dba"
      },
      "execution_count": 4,
      "outputs": [
        {
          "output_type": "stream",
          "name": "stdout",
          "text": [
            "enter first name: shoaib\n",
            "enter last name: ali\n",
            "0246585468445\n"
          ]
        }
      ]
    },
    {
      "cell_type": "code",
      "source": [
        "#Lab Task 1:\n",
        "#Create two lists based on the user values. Merge both the lists and display in sorted order.\n",
        "List1 = []\n",
        "List2 = []\n",
        "n = int(input(\"Enter the number of elements you want to enter in the first list: \"))\n",
        "for i in range (1, n+1):\n",
        "  num = int (input(\"Enter the number: \"))\n",
        "  List1.append(num)\n",
        "print(\"-------------------------------------------\")\n",
        "n1 = int(input(\"Enter the number of elements you want to enter in the second list: \"))\n",
        "for j in range (1, n1+1):\n",
        "  num1 = int(input(\"Enter the number: \"))\n",
        "  List2.append(num1)\n",
        "print(\"-------------------------------------------\")\n",
        "merge = List1 + List2\n",
        "merge.sort()\n",
        "print(\"Sorted List: \", merge)"
      ],
      "metadata": {
        "colab": {
          "base_uri": "https://localhost:8080/"
        },
        "id": "9sUa3QxApM1Z",
        "outputId": "57ddd4af-d74d-4cba-cd26-57344b78b5b1"
      },
      "execution_count": 10,
      "outputs": [
        {
          "output_type": "stream",
          "name": "stdout",
          "text": [
            "Enter the number of elements you want to enter in the first list: 2\n",
            "Enter the number: 6\n",
            "Enter the number: 2\n",
            "-------------------------------------------\n",
            "Enter the number of elements you want to enter in the second list: 2\n",
            "Enter the number: 4\n",
            "Enter the number: 1\n",
            "-------------------------------------------\n",
            "Sorted List:  [1, 2, 4, 6]\n"
          ]
        }
      ]
    },
    {
      "cell_type": "code",
      "source": [
        "#Lab Task 2:\n",
        "#Repeat the above activity to find the smallest and largest element of the list. (Suppose all the elements are integer values)\n",
        "List1 = []\n",
        "List2 = []\n",
        "n = int(input(\"Enter the number of elements you want to enter in the first list: \"))\n",
        "for i in range (1, n+1):\n",
        "  num = int (input(\"Enter the number: \"))\n",
        "  List1.append(num)\n",
        "print(\"-------------------------------------------\")\n",
        "n1 = int(input(\"Enter the number of elements you want to enter in the second list: \"))\n",
        "for j in range (1, n1+1):\n",
        "  num1 = int(input(\"Enter the number: \"))\n",
        "  List2.append(num1)\n",
        "print(\"-------------------------------------------\")\n",
        "merge = List1 + List2\n",
        "merge.sort()\n",
        "print(\"Sorted List: \", merge)\n",
        "print(\"-------------------------------------------\")\n",
        "print(\"Largest element in this sorted list is: \", merge[-1])\n",
        "print(\"Smallest element in this sorted list is: \", merge[0])"
      ],
      "metadata": {
        "colab": {
          "base_uri": "https://localhost:8080/"
        },
        "id": "5XnRty4msyqy",
        "outputId": "b28b708b-3e76-450f-fc31-21e7a7e99a4d"
      },
      "execution_count": 11,
      "outputs": [
        {
          "output_type": "stream",
          "name": "stdout",
          "text": [
            "Enter the number of elements you want to enter in the first list: 3\n",
            "Enter the number: 10\n",
            "Enter the number: 2\n",
            "Enter the number: 4\n",
            "-------------------------------------------\n",
            "Enter the number of elements you want to enter in the second list: 3\n",
            "Enter the number: 6\n",
            "Enter the number: 1\n",
            "Enter the number: 9\n",
            "-------------------------------------------\n",
            "Sorted List:  [1, 2, 4, 6, 9, 10]\n",
            "-------------------------------------------\n",
            "Largest element in this sorted list is:  10\n",
            "Smallest element in this sorted list is:  1\n"
          ]
        }
      ]
    },
    {
      "cell_type": "code",
      "source": [
        "#Lab Task 4\n",
        "#For this exercise, you will keep track of when our friend’s birthdays are, and be able to find that information based on their name. Create a dictionary (in your file) of names and birthdays. When you \n",
        "#run your program it should ask the user to enter a name, and return the birthday of that person back to them. The interaction should look something like this:\n",
        "\n",
        "#expected result:\n",
        "\n",
        "# >>> Welcome to the birthday dictionary. We know the birthdays of:\n",
        "# Albert Einstein\n",
        "# Benjamin Franklin\n",
        "# Ada Lovelace\n",
        "# >>> Who's birthday do you want to look up?\n",
        "# Benjamin Franklin\n",
        "# >>> Benjamin Franklin's birthday is 01/17/1706.\n",
        "\n",
        "\n",
        "dictionary_birthdays = {\n",
        "        'Albert Einstein': '12/10/1800',\n",
        "        'Benjamin Franklin': '01/17/1706',\n",
        "        'Ada Lovelace': '03/04/1700',\n",
        "      \n",
        "}\n",
        "\n",
        "print(\"Welcome to the birthday dictionary. We know the birthdays of:\")\n",
        "for people in dictionary_birthdays:\n",
        "    print(people)\n",
        "\n",
        "print('Who\\'s birthday do you want to look up?')\n",
        "user_info = input()\n",
        "\n",
        "if user_info in dictionary_birthdays:\n",
        "    print(\"%s's birthday is %s.\" % (user_info, dictionary_birthdays[user_info]))\n",
        "else:\n",
        "    print(\"We apologize, but %s does not exist in list!\" % (user_info))"
      ],
      "metadata": {
        "colab": {
          "base_uri": "https://localhost:8080/"
        },
        "id": "0VTHTE4fvDoA",
        "outputId": "aaf2622a-cd42-4c39-b131-dd5c893c1ba0"
      },
      "execution_count": 16,
      "outputs": [
        {
          "output_type": "stream",
          "name": "stdout",
          "text": [
            "Welcome to the birthday dictionary. We know the birthdays of:\n",
            "Albert Einstein\n",
            "Benjamin Franklin\n",
            "Ada Lovelace\n",
            "Who's birthday do you want to look up?\n",
            "Benjamin Franklin\n",
            "Benjamin Franklin's birthday is 01/17/1706.\n"
          ]
        }
      ]
    },
    {
      "cell_type": "code",
      "source": [
        "#Lab Task 5:\n",
        "#Create a dictionary by extracting the keys from a given dictionary\n",
        "#Write a Python program to create a new dictionary by extracting the mentioned keys from the below dictionary.\n",
        "\n",
        "\n",
        "sampleDict = {\n",
        "  \"name\": \"Kelly\",\n",
        "  \"age\":25,\n",
        "  \"salary\": 8000,\n",
        "  \"city\": \"New york\"\n",
        "  \n",
        "}\n",
        "keys = [\"name\", \"salary\"]\n",
        "\n",
        "newDict = {k: sampleDict[k] for k in keys}\n",
        "print(newDict)"
      ],
      "metadata": {
        "colab": {
          "base_uri": "https://localhost:8080/"
        },
        "id": "S3QpCMemyblA",
        "outputId": "8859f70d-32b4-4dec-ac71-4cef5bca8112"
      },
      "execution_count": 17,
      "outputs": [
        {
          "output_type": "stream",
          "name": "stdout",
          "text": [
            "{'name': 'Kelly', 'salary': 8000}\n"
          ]
        }
      ]
    }
  ]
}