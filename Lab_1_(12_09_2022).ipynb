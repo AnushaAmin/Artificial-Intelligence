{
  "nbformat": 4,
  "nbformat_minor": 0,
  "metadata": {
    "colab": {
      "provenance": [],
      "authorship_tag": "ABX9TyM6hHKu/sb28FvEpXoyizcB",
      "include_colab_link": true
    },
    "kernelspec": {
      "name": "python3",
      "display_name": "Python 3"
    },
    "language_info": {
      "name": "python"
    }
  },
  "cells": [
    {
      "cell_type": "markdown",
      "metadata": {
        "id": "view-in-github",
        "colab_type": "text"
      },
      "source": [
        "<a href=\"https://colab.research.google.com/github/AnushaAmin/Artificial-Intelligence/blob/main/Lab_1_(12_09_2022).ipynb\" target=\"_parent\"><img src=\"https://colab.research.google.com/assets/colab-badge.svg\" alt=\"Open In Colab\"/></a>"
      ]
    },
    {
      "cell_type": "code",
      "execution_count": 1,
      "metadata": {
        "colab": {
          "base_uri": "https://localhost:8080/"
        },
        "id": "eUDJJ_WoWDFw",
        "outputId": "5b29e4e6-4ec2-4bca-d6ce-89681f0df83c"
      },
      "outputs": [
        {
          "output_type": "stream",
          "name": "stdout",
          "text": [
            "Welcome to the Lab of Artificial Intelligence\n"
          ]
        }
      ],
      "source": [
        "print(\"Welcome to the Lab of Artificial Intelligence\")\n"
      ]
    },
    {
      "cell_type": "code",
      "source": [
        "#Trying Different Examples\n",
        "print(\"Welcome\")\n",
        "print(\"-------------------\")\n",
        "print(\"Wel\\tcome\")\n",
        "print(\"-------------------\")\n",
        "print(\"Wel\\ncome\")"
      ],
      "metadata": {
        "colab": {
          "base_uri": "https://localhost:8080/"
        },
        "id": "Bj4Fj9bWWrJJ",
        "outputId": "3fdf3423-1219-43ff-d31e-a632da812228"
      },
      "execution_count": 2,
      "outputs": [
        {
          "output_type": "stream",
          "name": "stdout",
          "text": [
            "Welcome\n",
            "-------------------\n",
            "Wel\tcome\n",
            "-------------------\n",
            "Wel\n",
            "come\n"
          ]
        }
      ]
    },
    {
      "cell_type": "code",
      "source": [
        "#Trying Different Examples\n",
        "print(type(10))\n",
        "print(type(True))\n",
        "print(type(\"Anusha\"))\n",
        "print(type(2+4j))"
      ],
      "metadata": {
        "colab": {
          "base_uri": "https://localhost:8080/"
        },
        "id": "q3FwJ3fYXk_T",
        "outputId": "e1d4636f-88cd-4115-8c1b-476bdcfc8e0e"
      },
      "execution_count": 4,
      "outputs": [
        {
          "output_type": "stream",
          "name": "stdout",
          "text": [
            "<class 'int'>\n",
            "<class 'bool'>\n",
            "<class 'str'>\n",
            "<class 'complex'>\n"
          ]
        }
      ]
    },
    {
      "cell_type": "code",
      "source": [
        "#Activity 1:\n",
        "#Let us take an integer from user as input and check whether the given value is even or not.\n",
        "number = int(input (\"Enter a number: \"))\n",
        "if (number%2==0):\n",
        "  print(\"This is an even number.\")\n",
        "else:\n",
        "  print(\"This is an odd number.\")"
      ],
      "metadata": {
        "colab": {
          "base_uri": "https://localhost:8080/"
        },
        "id": "Pw1MIPhiYauq",
        "outputId": "41d053e9-3b1c-401a-ba2f-687a2ad4ba31"
      },
      "execution_count": 5,
      "outputs": [
        {
          "output_type": "stream",
          "name": "stdout",
          "text": [
            "Enter a number: 3\n",
            "This is an odd number.\n"
          ]
        }
      ]
    },
    {
      "cell_type": "code",
      "source": [
        "#Activity 2:\n",
        "#Write a Python code to keep accepting integer values from user until 0 is entered. Display sum of the given values.\n",
        "sum=0\n",
        "number = input(\"Enter a number: \")\n",
        "n = int(number)\n",
        "if (n != 0):\n",
        "       sum = sum + n\n",
        "       number = input(\"Enter another number: \")\n",
        "       n = int(number)\n",
        "       print(\"Sum of given values is: \",sum)"
      ],
      "metadata": {
        "colab": {
          "base_uri": "https://localhost:8080/"
        },
        "id": "M6Am8i4GY03U",
        "outputId": "5c689e7e-7f92-41bf-b692-f9a23f2cb931"
      },
      "execution_count": 8,
      "outputs": [
        {
          "output_type": "stream",
          "name": "stdout",
          "text": [
            "Enter a number: 1\n",
            "Enter another number: 2\n",
            "Sum of given values is:  1\n"
          ]
        }
      ]
    },
    {
      "cell_type": "code",
      "source": [
        "#Activity 3 :\n",
        "#Write a Python code to accept an integer value from user and check that whether the given value is prime number or not.\n",
        "\n",
        "number = int(input('Enter a number : '))\n",
        "calculate = 0\n",
        "for i in range (1, number + 1):\n",
        "    if(number % i == 0):\n",
        "        calculate += 1;\n",
        "if(calculate == 2):\n",
        "    print(number, \" is a Prime number\")\n",
        "else:\n",
        "    print(number, \" is not a Prime number\")\n",
        "\n"
      ],
      "metadata": {
        "colab": {
          "base_uri": "https://localhost:8080/"
        },
        "id": "qUSBNNpdbOce",
        "outputId": "fbc9de5b-3051-48a3-a4fb-55a843a6d03e"
      },
      "execution_count": 23,
      "outputs": [
        {
          "output_type": "stream",
          "name": "stdout",
          "text": [
            "Enter a number : 4\n",
            "4  is not a Prime number\n"
          ]
        }
      ]
    },
    {
      "cell_type": "code",
      "source": [
        "#Activity 4:\n",
        "#Accept 5 integer values from user and display their sum. \n",
        "sum = 0\n",
        "i = 0\n",
        "while i<=4:\n",
        "  number = int(input(\"Enter a number: \"))\n",
        "  sum = sum + number\n",
        "  i = i + 1\n",
        "print (\"Sum : \", sum)"
      ],
      "metadata": {
        "colab": {
          "base_uri": "https://localhost:8080/"
        },
        "id": "MXHFrh42eJVd",
        "outputId": "41374fc9-3668-47f6-89f0-9e6907bfe86d"
      },
      "execution_count": 12,
      "outputs": [
        {
          "output_type": "stream",
          "name": "stdout",
          "text": [
            "Enter a number: 2\n",
            "Enter a number: 2\n",
            "Enter a number: 2\n",
            "Enter a number: 2\n",
            "Enter a number: 2\n",
            "Sum :  10\n"
          ]
        }
      ]
    },
    {
      "cell_type": "code",
      "source": [
        "#Activity 5:\n",
        "#Calculate the sum of all the values between 0-10 using while loop.\n",
        "sum = 0\n",
        "number = 1\n",
        "while number <= 10:\n",
        "  sum = sum + number \n",
        "  number = number + 1\n",
        "  print(\"Sum : \", sum)"
      ],
      "metadata": {
        "colab": {
          "base_uri": "https://localhost:8080/"
        },
        "id": "4RSH79-me9xF",
        "outputId": "064b7de8-0c67-4c8a-e97a-d636e434b085"
      },
      "execution_count": 13,
      "outputs": [
        {
          "output_type": "stream",
          "name": "stdout",
          "text": [
            "Sum :  1\n",
            "Sum :  3\n",
            "Sum :  6\n",
            "Sum :  10\n",
            "Sum :  15\n",
            "Sum :  21\n",
            "Sum :  28\n",
            "Sum :  36\n",
            "Sum :  45\n",
            "Sum :  55\n"
          ]
        }
      ]
    },
    {
      "cell_type": "code",
      "source": [
        "#Activity 6:\n",
        "#Take input from the keyboard and use it in your program\n",
        "name = input(\"Enter your name: \")\n",
        "print(\"Hey \", name )\n",
        "semester = input(\"In which semester you are? \")\n",
        "print(\"OHH WOWW!! You are in \", semester, \"semester. Goodluck!!!\")"
      ],
      "metadata": {
        "colab": {
          "base_uri": "https://localhost:8080/"
        },
        "id": "cNJa8whEgKBH",
        "outputId": "e70c617a-4984-4be6-aacd-ae2bab07405a"
      },
      "execution_count": 15,
      "outputs": [
        {
          "output_type": "stream",
          "name": "stdout",
          "text": [
            "Enter your name: Anusha\n",
            "Hey  Anusha\n",
            "In which semester you are? 5th\n",
            "OHH WOWW!! You are in  5th semester. Goodluck!!!\n"
          ]
        }
      ]
    },
    {
      "cell_type": "code",
      "source": [
        "#Activity 7:\n",
        "#Generate a random number between 1 and 9 (including 1 and 9). Ask the user to guess the number, then tell them whether they guessed too low, too high, or exactly right. (Hint: remember to use the user input lessons from the very first exercise)\n",
        "#Extras:\n",
        "#Keep the game going until the user types “exit”\n",
        "#Keep track of how many guesses the user has taken, and when the game ends, print this out\n",
        "\n",
        "import random \n",
        "number = random.randint(1,10)\n",
        "guess = 0\n",
        "count = 0\n",
        "\n",
        "while guess != number and guess != \"exit\":\n",
        "    guess = input(\"Please guess a number between 1 and 9. When you want to end the game print 'exit': \")\n",
        "\n",
        "    if guess == \"exit\":\n",
        "        print(\"Game Over\")\n",
        "        break\n",
        "\n",
        "    guess = int(guess)\n",
        "    count += 1\n",
        "    if guess not in range(1, 10):\n",
        "        print(\"You have to guess a number between 1 and 9!\")\n",
        "    elif guess < number:\n",
        "        print(\"You've guessed too low!\")\n",
        "    elif guess > number:\n",
        "        print(\"You've guessed too high!\")\n",
        "    else:\n",
        "        if count == 1:\n",
        "            print(\"You rock! You've got it at the first try!\")\n",
        "        elif count <= 3:\n",
        "            print(\"Well done! You've got it in just {} tries\".format(count))\n",
        "        elif count > 3:\n",
        "            print(\"You've got it! It took you {} tries!\".format(count))\n"
      ],
      "metadata": {
        "colab": {
          "base_uri": "https://localhost:8080/"
        },
        "id": "rFhDbByIjbq9",
        "outputId": "900eaceb-b7e2-4e1f-fb9f-9bb7be1b4537"
      },
      "execution_count": 20,
      "outputs": [
        {
          "output_type": "stream",
          "name": "stdout",
          "text": [
            "Please guess a number between 1 and 9. When you want to end the game print 'exit': 5\n",
            "You've guessed too high!\n",
            "Please guess a number between 1 and 9. When you want to end the game print 'exit': 2\n",
            "You've guessed too low!\n",
            "Please guess a number between 1 and 9. When you want to end the game print 'exit': 3\n",
            "Well done! You've got it in just 3 tries\n"
          ]
        }
      ]
    },
    {
      "cell_type": "code",
      "source": [
        "#Lab Task 1:\n",
        "#Write a program that prompts the user to input an integer and then outputs the number with the digits reversed. For example, if the input is 12345, the output should be 54321.\n",
        "number = int(input(\"Enter number :  \"))\n",
        "reverse = 0\n",
        "while ( number != 0):\n",
        "  reminder =  number % 10\n",
        "  reverse = reverse * 10  + reminder \n",
        "  number = number // 10\n",
        "print(reverse)"
      ],
      "metadata": {
        "colab": {
          "base_uri": "https://localhost:8080/"
        },
        "id": "Sk8lLNoiqlVO",
        "outputId": "5af44cb7-c159-4555-b058-40e231affcb2"
      },
      "execution_count": 24,
      "outputs": [
        {
          "output_type": "stream",
          "name": "stdout",
          "text": [
            "Enter number :  421\n",
            "124\n"
          ]
        }
      ]
    },
    {
      "cell_type": "code",
      "source": [
        "#Lab Task 2:\n",
        "#Write a program that reads a set of integers, and then prints the sum of the even and odd integers.\n",
        "odd_numbers = 0\n",
        "even_numbers = 0\n",
        "i=0\n",
        "while (i <= 5):\n",
        "  number = int(input(\"Enter a number:\"))\n",
        "  if(number % 2 == 0):\n",
        "    even_numbers = even_numbers + number\n",
        "  else:\n",
        "    odd_numbers = odd_numbers + number\n",
        "  i = i + 1\n",
        "\n",
        "print(\"The sum of even numbers is: \", even_numbers)\n",
        "print(\"The sum of odd numbers is: \", odd_numbers)\n",
        "\n"
      ],
      "metadata": {
        "colab": {
          "base_uri": "https://localhost:8080/"
        },
        "id": "_hYHnAugu1YG",
        "outputId": "d6ede299-405f-4ddc-db53-c806caa2c9b1"
      },
      "execution_count": 28,
      "outputs": [
        {
          "output_type": "stream",
          "name": "stdout",
          "text": [
            "Enter a number:1\n",
            "Enter a number:2\n",
            "Enter a number:3\n",
            "Enter a number:4\n",
            "Enter a number:11\n",
            "Enter a number:10\n",
            "The sum of even numbers is:  16\n",
            "The sum of odd numbers is:  15\n"
          ]
        }
      ]
    },
    {
      "cell_type": "code",
      "source": [
        "#Lab Task 3:\n",
        "#Fibonacci series is that when you add the previous two numbers the next number is formed. You have to start from 0 and 1.\n",
        "#E.g. 0+1=1 → 1+1=2 → 1+2=3 → 2+3=5 → 3+5=8 → 5+8=13\n",
        "#So the series becomes\n",
        "#0 1 1 2 3 5 8 13 21 34 55 ……………………………………\n",
        "#Steps: You have to take an input number that shows how many terms to be displayed. Then use loops for displaying the Fibonacci series up to that term e.g. input no is =6 the output should be\n",
        "#0 1 1 2 3 5\n",
        "number = int(input(\"Enter a number: \"))\n",
        "a = 0\n",
        "b = 1 \n",
        "c = 0\n",
        "if number <= 0:\n",
        "  \n",
        "  print(\"Please enter a positive integer\")\n",
        "elif number == 1:\n",
        "  print(\"Fibonacci sequence upto\",number,\":\")\n",
        "  print(a)\n",
        "else:\n",
        "  print(\"Fibonacci Series :\")\n",
        "  while (c < number):\n",
        "    print(a, end = ' ')\n",
        "    c = a + b \n",
        "    a = b\n",
        "    b = c\n",
        "    count = count + 1\n",
        "\n"
      ],
      "metadata": {
        "colab": {
          "base_uri": "https://localhost:8080/"
        },
        "id": "zKIksKbo1DoH",
        "outputId": "054b4d83-5f53-4002-bad0-4eae72e9f7c4"
      },
      "execution_count": 37,
      "outputs": [
        {
          "output_type": "stream",
          "name": "stdout",
          "text": [
            "Enter a number: 4\n",
            "Fibonacci Series :\n",
            "0 1 1 2 "
          ]
        }
      ]
    },
    {
      "cell_type": "code",
      "source": [
        "#Lab Task 4:\n",
        "#Write a Python code to accept marks of a student from 1-100 and display the grade according to the following formula.\n",
        "#Grade F if marks are less than 50\n",
        "#Grade E if marks are between 50 to 60\n",
        "#Grade D if marks are between 61 to 70\n",
        "#Grade C if marks are between 71 to 80\n",
        "#Grade B if marks are between 81 to 90\n",
        "#Grade A if marks are between 91 to 100\n",
        "marks = int(input(\"Enter your Marks : \"))\n",
        "if(marks < 50):\n",
        "    print(\"Grade F\")\n",
        "elif(marks >= 50 and marks <= 60):\n",
        "    print(\"Grade E\")\n",
        "elif(marks >= 61 and marks <= 70):\n",
        "    print(\"Grade D\")\n",
        "elif(marks >= 71 and marks <= 80):\n",
        "    print(\"Grade C\")\n",
        "elif(marks >= 81 and marks <= 90):\n",
        "    print(\"Grade B\")\n",
        "else:\n",
        "    print(\"Grade A\")"
      ],
      "metadata": {
        "colab": {
          "base_uri": "https://localhost:8080/"
        },
        "id": "ymRBDw3S4ew9",
        "outputId": "395896a7-a848-4338-b2fa-aceaca6f0f5f"
      },
      "execution_count": 40,
      "outputs": [
        {
          "output_type": "stream",
          "name": "stdout",
          "text": [
            "Enter your Marks : 45\n",
            "Grade F\n"
          ]
        }
      ]
    },
    {
      "cell_type": "code",
      "source": [
        "#Lab Task 5:\n",
        "#Write a program that takes a number from user and calculate the factorial of that number.\n",
        "number = int(input(\"Enter a number : \"))\n",
        "factorial = 1\n",
        "for i in range(1, number + 1):\n",
        "    factorial = factorial * i\n",
        "print(\"Factorial of\", number, \"is :\", factorial)"
      ],
      "metadata": {
        "colab": {
          "base_uri": "https://localhost:8080/"
        },
        "id": "bn-nyu235Mz2",
        "outputId": "b405ecf4-9e45-4ca6-9ed3-34a0a8d10585"
      },
      "execution_count": 42,
      "outputs": [
        {
          "output_type": "stream",
          "name": "stdout",
          "text": [
            "Enter a number : 3\n",
            "Factorial of 3 is : 6\n"
          ]
        }
      ]
    }
  ]
}